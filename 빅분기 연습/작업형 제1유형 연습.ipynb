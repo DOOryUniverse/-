{
 "cells": [
  {
   "cell_type": "markdown",
   "metadata": {},
   "source": [
    "### 제 2회 실기 기출"
   ]
  },
  {
   "cell_type": "code",
   "execution_count": 1,
   "metadata": {},
   "outputs": [
    {
     "name": "stdout",
     "output_type": "stream",
     "text": [
      "5.759386624999999\n"
     ]
    }
   ],
   "source": [
    "# crim 항목의 상위에서 10번째 값 으로 상위 10개의 값을 변환하고 age 80 이상인 값에 대해하여 crim의 평균\n",
    "import pandas as pd\n",
    "from sklearn.datasets import load_boston\n",
    "import numpy as np\n",
    "\n",
    "df  = load_boston()\n",
    "data = pd.DataFrame(data= df.data, columns = df.feature_names)\n",
    "data[\"target\"]=df.target\n",
    "\n",
    "data.sort_values(\"CRIM\", ascending=False, inplace=True)\n",
    "data.reset_index(drop = True, inplace=True)\n",
    "\n",
    "\n",
    "# CRIM값이 가장 큰 10개의 값중 가장 작은 값 추출\n",
    "min_crim = data[:10]['CRIM'].min()\n",
    "\n",
    "# 가장 큰 10개의 값 대체\n",
    "data.iloc[:10, 0] = min_crim\n",
    "\n",
    "data_80 = data[data[\"AGE\"]>=80]\n",
    "print(data_80[\"CRIM\"].mean())"
   ]
  },
  {
   "cell_type": "code",
   "execution_count": 2,
   "metadata": {},
   "outputs": [
    {
     "name": "stdout",
     "output_type": "stream",
     "text": [
      "1.9749591387375744\n"
     ]
    }
   ],
   "source": [
    "# 주어진 데이터의 첫 번째 행부터 순서대로 80%까지의 데이터를 훈련 데이터로 추출 후 total_bedrooms 변수의 결측값을  \n",
    "# total_bedrooms변수의 중앙값으로 대체하고 대체 전의 total_bedrooms 변수 표준편차 값의 차이의 절대값을 구하시오.\n",
    "\n",
    "df = pd.read_csv(\"./datasets/housing.csv\")\n",
    "df_train = df.iloc[:int(0.8*len(df))]\n",
    "df_train_replace=df_train.fillna(df_train[\"total_bedrooms\"].median())\n",
    "df_stdev  = np.abs(np.std(df_train_replace[\"total_bedrooms\"])-np.std(df_train[\"total_bedrooms\"]))\n",
    "print(df_stdev)"
   ]
  },
  {
   "cell_type": "code",
   "execution_count": 10,
   "metadata": {},
   "outputs": [],
   "source": [
    "# charges 항목의 이상값의 합을 구하시오.\n",
    "# (이상값은 평균에서 1.5표준편차 이상인 값)\n",
    "std = np.std(df['total_rooms']) * 1.5"
   ]
  },
  {
   "cell_type": "code",
   "execution_count": 13,
   "metadata": {},
   "outputs": [
    {
     "name": "stdout",
     "output_type": "stream",
     "text": [
      "최종 결과 :  10707239.0\n"
     ]
    }
   ],
   "source": [
    "min_std, max_std = df['total_rooms'].mean() - std, df['total_rooms'].mean() + std\n",
    "result = df.loc[(df['total_rooms'] > max_std) | (df['total_rooms'] < min_std), 'total_rooms'].sum()\n",
    "print('최종 결과 : ', result)"
   ]
  },
  {
   "cell_type": "markdown",
   "metadata": {},
   "source": [
    "### T1 2회 기출 유형\n",
    "### 문제 1\n",
    "* 데이터셋(basic1.csv)의 'f5' 컬럼을 기준으로 상위 10개의 데이터를 구하고,\n",
    "* 'f5'컬럼 10개 중 최소값으로 데이터를 대체한 후,\n",
    "* 'age'컬럼에서 80 이상인 데이터의'f5 컬럼 평균값 구하기\n",
    "\n",
    "### 문제 2\n",
    "* 데이터셋(basic1.csv)의 앞에서 순서대로 70% 데이터만 활용해서,\n",
    "* 'f1'컬럼 결측치를 중앙값으로 채우기 전후의 표준편차를 구하고\n",
    "* 두 표준편차 차이 계산하기\n",
    "\n",
    "### 문제 3\n",
    "* 데이터셋(basic1.csv)의 'age'컬럼의 이상치를 더하시오!\n",
    "* 단, 평균으로부터 '표준편차*1.5'를 벗어나는 영역을 이상치라고 판단함"
   ]
  },
  {
   "cell_type": "code",
   "execution_count": 19,
   "metadata": {},
   "outputs": [
    {
     "name": "stdout",
     "output_type": "stream",
     "text": [
      "62.497747125217394\n",
      "3.051387966266798\n",
      "473.5\n"
     ]
    },
    {
     "name": "stderr",
     "output_type": "stream",
     "text": [
      "C:\\Users\\user\\AppData\\Local\\Temp/ipykernel_11056/1270849813.py:8: SettingWithCopyWarning: \n",
      "A value is trying to be set on a copy of a slice from a DataFrame.\n",
      "Try using .loc[row_indexer,col_indexer] = value instead\n",
      "\n",
      "See the caveats in the documentation: https://pandas.pydata.org/pandas-docs/stable/user_guide/indexing.html#returning-a-view-versus-a-copy\n",
      "  dt10[\"f5\"]=dt10[\"f5\"].apply(lambda x: dt10[\"f5\"].min())\n",
      "C:\\Users\\user\\AppData\\Local\\Temp/ipykernel_11056/1270849813.py:16: SettingWithCopyWarning: \n",
      "A value is trying to be set on a copy of a slice from a DataFrame.\n",
      "Try using .loc[row_indexer,col_indexer] = value instead\n",
      "\n",
      "See the caveats in the documentation: https://pandas.pydata.org/pandas-docs/stable/user_guide/indexing.html#returning-a-view-versus-a-copy\n",
      "  dt70[\"f1\"]=dt70[\"f1\"].fillna(dt[\"f1\"].median())\n"
     ]
    }
   ],
   "source": [
    "# 문제 1\n",
    "import pandas as pd\n",
    "import numpy as np\n",
    "dt = pd.read_csv(\"./data/basic1.csv\")\n",
    "dt1 = dt.sort_values(by=\"f5\", ascending=False)\n",
    "dt1=dt1.reset_index(drop=True)\n",
    "dt10=dt1.iloc[:10]\n",
    "dt10[\"f5\"]=dt10[\"f5\"].apply(lambda x: dt10[\"f5\"].min())\n",
    "avgs = dt1[dt1[\"age\"]>=80][\"f5\"].mean()\n",
    "print(avgs)\n",
    "\n",
    "# 문제 2\n",
    "\n",
    "dt70=dt.iloc[:70]\n",
    "std1= dt70[\"f1\"].std()\n",
    "dt70[\"f1\"]=dt70[\"f1\"].fillna(dt[\"f1\"].median())\n",
    "std2 = dt70[\"f1\"].std()\n",
    "print(std1-std2)\n",
    "\n",
    "# 문제 3\n",
    "meanss = dt[\"age\"].mean()\n",
    "stds = dt[\"age\"].std()\n",
    "outlier1 = dt[(dt[\"age\"]>meanss+(stds*1.5)) | (dt[\"age\"]<meanss-(stds*1.5))][\"age\"].sum()\n",
    "print(outlier1)"
   ]
  },
  {
   "cell_type": "markdown",
   "metadata": {},
   "source": [
    "### T1 예시문제\n",
    "* 자동차 데이터 셋에서 qsec 컬럼을 Min-Max Scale로 변환 후 0.5보다 큰 값을 가지는 레코드(row) 수를 묻는 문제입니다."
   ]
  },
  {
   "cell_type": "code",
   "execution_count": 112,
   "metadata": {},
   "outputs": [
    {
     "name": "stdout",
     "output_type": "stream",
     "text": [
      "9\n"
     ]
    }
   ],
   "source": [
    "df= pd.read_csv(\"./datasets/mtcars.csv\")\n",
    "import pandas as pd\n",
    "import numpy as np\n",
    "from sklearn.preprocessing import minmax_scale\n",
    "\n",
    "df['qsec'] = minmax_scale(df['qsec'])\n",
    "print(sum(df[\"qsec\"]>=0.5))\n"
   ]
  },
  {
   "cell_type": "code",
   "execution_count": 2,
   "metadata": {},
   "outputs": [
    {
     "name": "stdout",
     "output_type": "stream",
     "text": [
      "3.2965018033960725\n"
     ]
    }
   ],
   "source": [
    "# 문제 2\n",
    "import pandas as pd\n",
    "import numpy as np\n",
    "data = pd.read_csv(\"./datasets/basic1.csv\")\n",
    "data70 = data.iloc[:70]\n",
    "data30 = data.iloc[70:]\n",
    "std1 = data70[\"f1\"].std()\n",
    "data70[\"f1\"]= data70[\"f1\"].fillna(data70[\"f1\"].median())\n",
    "std2 = data70[\"f1\"].std()\n",
    "print(std1-std2)"
   ]
  },
  {
   "cell_type": "code",
   "execution_count": 3,
   "metadata": {},
   "outputs": [
    {
     "data": {
      "text/plain": [
       "473.5"
      ]
     },
     "execution_count": 3,
     "metadata": {},
     "output_type": "execute_result"
    }
   ],
   "source": [
    "# 문제 3\n",
    "std = (data[\"age\"].std())*1.5\n",
    "mean = data[\"age\"].mean()\n",
    "\n",
    "minout= mean-std\n",
    "maxout = mean+std\n",
    "df[(df[\"age\"]>maxout)|(df[\"age\"]<minout)][\"age\"].sum()"
   ]
  },
  {
   "cell_type": "markdown",
   "metadata": {},
   "source": [
    "### T1-1 이상치(IQR)\n",
    "\n",
    "* IQR 구하기\n",
    "* 이상치 데이터 구하기\n",
    "* 이상치 데이터에서 여성 수 구하기"
   ]
  },
  {
   "cell_type": "code",
   "execution_count": 18,
   "metadata": {},
   "outputs": [],
   "source": [
    "\n",
    "titanic = pd.read_csv(\"./datasets/train.csv\")"
   ]
  },
  {
   "cell_type": "code",
   "execution_count": 19,
   "metadata": {},
   "outputs": [],
   "source": [
    "q1 = titanic[\"Fare\"].quantile(0.25)\n",
    "q3 = titanic[\"Fare\"].quantile(0.75)\n",
    "IQR = q1=q3"
   ]
  },
  {
   "cell_type": "code",
   "execution_count": 13,
   "metadata": {},
   "outputs": [
    {
     "data": {
      "text/plain": [
       "(-15.5, 77.5)"
      ]
     },
     "execution_count": 13,
     "metadata": {},
     "output_type": "execute_result"
    }
   ],
   "source": [
    "q1-1.5*IQR, q3+1.5*IQR"
   ]
  },
  {
   "cell_type": "code",
   "execution_count": 21,
   "metadata": {},
   "outputs": [
    {
     "name": "stdout",
     "output_type": "stream",
     "text": [
      "59\n"
     ]
    }
   ],
   "source": [
    "outdata1 = titanic[titanic[\"Fare\"]<(q1-1.5*IQR)]\n",
    "outdata2 = titanic[titanic[\"Fare\"]>(q3+1.5*IQR)]\n",
    "print(sum(outdata2[\"Sex\"]==\"female\"))"
   ]
  },
  {
   "cell_type": "markdown",
   "metadata": {},
   "source": [
    "### T1-2 \n",
    "* 주어진 데이터에서 나이 이상치를 찾고 올림, 내림, 버림을 했을때 3가지 모두 이상치 age 평균을 구한 다음 모두 더하여 출력하시오."
   ]
  },
  {
   "cell_type": "code",
   "execution_count": 3,
   "metadata": {},
   "outputs": [],
   "source": [
    "import pandas as pd\n",
    "df = pd.read_csv(\"./data/basic1.csv\")\n",
    "import numpy as np\n",
    "\n",
    "\n",
    "# 올림 np.ceil()\n",
    "# 내림 np.floor()\n",
    "# 버림 np.trunc()\n"
   ]
  },
  {
   "cell_type": "code",
   "execution_count": 4,
   "metadata": {},
   "outputs": [],
   "source": [
    "df.to_csv(\"인덱스 없는 파일.csv\", index=False )"
   ]
  },
  {
   "cell_type": "code",
   "execution_count": 26,
   "metadata": {},
   "outputs": [
    {
     "name": "stdout",
     "output_type": "stream",
     "text": [
      "69.5\n"
     ]
    }
   ],
   "source": [
    "# 소수점 데이터 찾기\n",
    "df = df[(df['age']-np.floor(df['age']))!= 0]\n",
    "\n",
    "m_ceil = np.ceil(df['age']).mean()\n",
    "\n",
    "# 내림\n",
    "m_floor = np.floor(df['age']).mean()\n",
    "\n",
    "# 버림\n",
    "m_trunc = np.trunc(df['age']).mean()\n",
    "\n",
    "print(m_ceil + m_floor + m_trunc)"
   ]
  },
  {
   "cell_type": "markdown",
   "metadata": {},
   "source": [
    "### T1 -3 결측치 처리 \n",
    "* 주어진 데이터에서 결측치가 80% 이상되는 컬럼 삭제\n",
    "* 80% 미만인 결측치가 있는 컬럼은 city별 중앙값으로 대체하고 f1컬럼의 평균값 출력하시오."
   ]
  },
  {
   "cell_type": "code",
   "execution_count": 28,
   "metadata": {},
   "outputs": [
    {
     "data": {
      "text/plain": [
       "id      0.00\n",
       "age     0.00\n",
       "city    0.00\n",
       "f1      0.31\n",
       "f2      0.00\n",
       "f3      0.95\n",
       "f4      0.00\n",
       "f5      0.00\n",
       "dtype: float64"
      ]
     },
     "execution_count": 28,
     "metadata": {},
     "output_type": "execute_result"
    }
   ],
   "source": [
    "df = pd.read_csv(\"./data/basic1.csv\")\n",
    "\n",
    "# 결측 비율 확인 하는 법\n",
    "# df.isnull().sum()\n",
    "df.isnull().sum()/df.shape[0]"
   ]
  },
  {
   "cell_type": "code",
   "execution_count": 35,
   "metadata": {},
   "outputs": [],
   "source": [
    "df.drop([\"f3\"], axis=1,inplace=True)"
   ]
  },
  {
   "cell_type": "code",
   "execution_count": 36,
   "metadata": {},
   "outputs": [],
   "source": [
    "# 도시별 중앙값 계산\n",
    "k,d,b,s = df.groupby('city')['f1'].median()"
   ]
  },
  {
   "cell_type": "code",
   "execution_count": 37,
   "metadata": {},
   "outputs": [
    {
     "name": "stdout",
     "output_type": "stream",
     "text": [
      "65.52\n"
     ]
    }
   ],
   "source": [
    "df['f1'] = df['f1'].fillna(df[\"city\"].map({'서울':s, \"경기\":k, \"부산\":b, \"대구\":d}))\n",
    "print(df['f1'].mean())"
   ]
  },
  {
   "cell_type": "markdown",
   "metadata": {},
   "source": [
    "### T1-6 결측치 제거 및 그룹 합계\n",
    "* 주어진 데이터 중 basic1.csv에서 'f1'컬럼 결측 데이터를 제거하고, 'city'와 'f2'을 기준으로 묶어 합계를 구하고, 'city가 경기이면서 f2가 0'인 조건에 만족하는 f1 값을 구하시오"
   ]
  },
  {
   "cell_type": "code",
   "execution_count": 51,
   "metadata": {},
   "outputs": [
    {
     "data": {
      "text/plain": [
       "(69, 8)"
      ]
     },
     "execution_count": 51,
     "metadata": {},
     "output_type": "execute_result"
    }
   ],
   "source": [
    "df = pd.read_csv(\"./datasets/basic1.csv\")\n",
    "\n",
    "df.dropna(subset=[\"f1\"], inplace=True)\n",
    "df.shape"
   ]
  },
  {
   "cell_type": "code",
   "execution_count": 60,
   "metadata": {},
   "outputs": [
    {
     "name": "stdout",
     "output_type": "stream",
     "text": [
      "833.0\n"
     ]
    }
   ],
   "source": [
    "df2 = df.groupby([\"city\",\"f2\"]).sum()\n",
    "print(df2.iloc[0]['f1'])"
   ]
  },
  {
   "cell_type": "markdown",
   "metadata": {},
   "source": [
    "### T1-7 값 변경 및 2개 이상의 조건 \n",
    "* f4'컬럼의 값이 'ESFJ'인 데이터를 'ISFJ'로 대체하고, \n",
    "* 'city'가 '경기'이면서 'f4'가 'ISFJ'인 데이터 중 'age'컬럼의 최대값을 출력하시오"
   ]
  },
  {
   "cell_type": "code",
   "execution_count": 68,
   "metadata": {},
   "outputs": [
    {
     "name": "stdout",
     "output_type": "stream",
     "text": [
      "90.0\n"
     ]
    }
   ],
   "source": [
    "df = pd.read_csv(\"./datasets/basic1.csv\")\n",
    "df[\"f4\"].replace(\"ESFJ\", \"ISFJ\", inplace=True)\n",
    "df1 = df[(df[\"f4\"]==\"ISFJ\") & (df[\"city\"]==\"경기\")][\"age\"].max()\n",
    "print(df1)\n"
   ]
  },
  {
   "cell_type": "markdown",
   "metadata": {},
   "source": [
    "### T1-8 누적합 그리고 보간(결측치 처리)\n",
    "* 주어진 데이터 셋에서 'f2' 컬럼이 1인 조건에 해당하는 데이터의 'f1'컬럼 누적합을 계산한다. \n",
    "* 이때 발생하는 누적합 결측치는 바로 뒤의 값을 채우고, 누적합의 평균값을 출력한다. (단, 결측치 바로 뒤의 값이 없으면 다음에 나오는 값을 채워넣는다)"
   ]
  },
  {
   "cell_type": "code",
   "execution_count": 78,
   "metadata": {},
   "outputs": [
    {
     "name": "stdout",
     "output_type": "stream",
     "text": [
      "980.3783783783783\n"
     ]
    }
   ],
   "source": [
    "df = pd.read_csv(\"./datasets/basic1.csv\")\n",
    "# 누적합 cumsum()\n",
    "df2 = df[df[\"f2\"]==1][\"f1\"].cumsum()\n",
    "df2\n",
    "df2= df2.fillna(method='bfill')\n",
    "print(df2.mean())"
   ]
  },
  {
   "cell_type": "markdown",
   "metadata": {},
   "source": [
    "### T1-9 수치형 변수 정규화\n",
    "* f5 컬럼을 정규화 하고 그 중앙값을 구하시오."
   ]
  },
  {
   "cell_type": "code",
   "execution_count": 5,
   "metadata": {},
   "outputs": [
    {
     "name": "stdout",
     "output_type": "stream",
     "text": [
      "0.260619629559015\n"
     ]
    }
   ],
   "source": [
    "import pandas as pd\n",
    "from sklearn.preprocessing import StandardScaler\n",
    "df = pd.read_csv(\"./data/basic1.csv\")\n",
    "st = StandardScaler()\n",
    "st.fit(df[[\"f5\"]])\n",
    "df[\"f5\"]=st.transform(df[[\"f5\"]])\n",
    "med = df[\"f5\"].median()\n",
    "print(med)"
   ]
  },
  {
   "cell_type": "markdown",
   "metadata": {},
   "source": [
    "### T1-10 여-존슨과 박스-콕스 변환\n",
    "* 주어진 데이터에서 20세 이상인 데이터를 추출하고 'f1'컬럼을 결측치를 최빈값으로 채운 후, \n",
    "* f1 컬럼의 여-존슨과 박스콕스 변환 값을 구하고, \n",
    "* 두 값의 차이를 절대값으로 구한다음 모두 더해 소수점 둘째 자리까지 출력(반올림)하시오"
   ]
  },
  {
   "cell_type": "code",
   "execution_count": 95,
   "metadata": {},
   "outputs": [],
   "source": [
    "df = pd.read_csv(\"./datasets/basic1.csv\")\n",
    "df1= df[df[\"age\"]>=20]\n",
    "df1[\"f1\"].fillna(df[\"f1\"].mode(), inplace=True)\n",
    "\n",
    "\n",
    "    "
   ]
  },
  {
   "cell_type": "code",
   "execution_count": 99,
   "metadata": {},
   "outputs": [
    {
     "name": "stdout",
     "output_type": "stream",
     "text": [
      "nan\n"
     ]
    }
   ],
   "source": [
    "from sklearn.preprocessing import power_transform\n",
    "# 'f1'데이터 여-존슨 yeo-johnson 값 구하기\n",
    "df['y'] = power_transform(df[['f1']],standardize=False)\n",
    "# 'f1'데이터 박스-콕스 box-cox 값 구하기\n",
    "df['b'] = power_transform(df[['f1']], method='box-cox', standardize=False)\n",
    "print(round(sum(np.abs(df['y'] - df['b'])),2))"
   ]
  },
  {
   "cell_type": "markdown",
   "metadata": {},
   "source": [
    "### T1-11 min-max 스케일러\n",
    "* 주어진 데이터에서 'f5'컬럼을 min-max 스케일 변환한 후, 상위 5%와 하위 5% 값의 합을 구하시오"
   ]
  },
  {
   "cell_type": "code",
   "execution_count": 12,
   "metadata": {},
   "outputs": [
    {
     "name": "stdout",
     "output_type": "stream",
     "text": [
      "1.0248740983597389\n"
     ]
    }
   ],
   "source": [
    "import pandas as pd\n",
    "from sklearn.preprocessing import MinMaxScaler\n",
    "dt = pd.read_csv(\"./data/basic1.csv\")\n",
    "mx = MinMaxScaler()\n",
    "dt[\"f5\"]=mx.fit_transform(dt[[\"f5\"]])\n",
    "lower = dt[\"f5\"].quantile(0.05)\n",
    "upper = dt[\"f5\"].quantile(0.95)\n",
    "print(lower+upper)\n"
   ]
  },
  {
   "cell_type": "markdown",
   "metadata": {},
   "source": [
    "### T1-12 상위 10개 하위 10개 차이\n",
    "* 주어진 데이터에서 상위 10개 국가의 접종률 평균과 하위 10개 국가의 접종률 평균을 구하고, 그 차이를 구하시오."
   ]
  },
  {
   "cell_type": "code",
   "execution_count": 19,
   "metadata": {},
   "outputs": [
    {
     "name": "stdout",
     "output_type": "stream",
     "text": [
      "92.21826037146099\n"
     ]
    }
   ],
   "source": [
    "import pandas as pd\n",
    "df= pd.read_csv(\"./data/covid-vaccination-vs-death_ratio.csv\")\n",
    "df=df.sort_values(by=\"ratio\", ascending=False)\n",
    "gp = df.groupby('country').max()\n",
    "gp.sort_values(by=\"ratio\", ascending=False, inplace=True)\n",
    "top = gp.head(10)[\"ratio\"].mean()\n",
    "bottom = gp.tail(10)[\"ratio\"].mean()\n",
    "print(top-bottom)\n",
    "\n",
    "\n"
   ]
  },
  {
   "cell_type": "markdown",
   "metadata": {},
   "source": [
    "### T1-13 상관관계 구하기\n",
    "* 주어진 데이터에서 상관관계를 구하고, quality와의 상관관계가 가장 큰 값과, 가장 작은 값을 구한 다음 더하시오!\n",
    "* 단, quality와 quality 상관관계 제외, 소수점 둘째 자리까지 출력"
   ]
  },
  {
   "cell_type": "code",
   "execution_count": 26,
   "metadata": {},
   "outputs": [
    {
     "name": "stdout",
     "output_type": "stream",
     "text": [
      "0.09\n"
     ]
    }
   ],
   "source": [
    "df = pd.read_csv(\"./data/winequality-red.csv\")\n",
    "dff=df.corr()\n",
    "dff=dff[:-1]\n",
    "mx = dff[\"quality\"].max()\n",
    "mn=dff[\"quality\"].min()\n",
    "print(round((mx+mn),2))"
   ]
  },
  {
   "cell_type": "markdown",
   "metadata": {},
   "source": [
    "### T1-14 2개 조건에 따른 상위 값\n",
    "* city와 f4를 기준으로 f5의 평균값을 구한 다음, f5를 기준으로 상위 7개 값을 모두 더해 출력하시오."
   ]
  },
  {
   "cell_type": "code",
   "execution_count": 31,
   "metadata": {},
   "outputs": [
    {
     "name": "stdout",
     "output_type": "stream",
     "text": [
      "643.6813362975\n"
     ]
    }
   ],
   "source": [
    "import pandas as pd\n",
    "df = pd.read_csv(\"./data/basic1.csv\")\n",
    "gp=df.groupby([\"city\",\"f4\"])[[\"f5\"]].mean()\n",
    "gp.sort_values(by=\"f5\", ascending=False, inplace=True)\n",
    "sums=gp.head(7)[\"f5\"].sum()\n",
    "print(sums)\n",
    "\n"
   ]
  },
  {
   "cell_type": "markdown",
   "metadata": {},
   "source": [
    "### T1-15 슬라이싱 & 조건\n",
    " * 주어진 데이터 셋에서 age컬럼 상위 20개의 데이터를 구한 다음 \n",
    " * f1의 결측치를 중앙값으로 채운다.\n",
    " * 그리고 f4가 ISFJ와 f5가 20 이상인 \n",
    " * f1의 평균값을 출력하시오!"
   ]
  },
  {
   "cell_type": "code",
   "execution_count": 34,
   "metadata": {},
   "outputs": [
    {
     "name": "stdout",
     "output_type": "stream",
     "text": [
      "73.875\n"
     ]
    },
    {
     "name": "stderr",
     "output_type": "stream",
     "text": [
      "C:\\Users\\user\\AppData\\Local\\Temp/ipykernel_2124/2016375046.py:5: SettingWithCopyWarning: \n",
      "A value is trying to be set on a copy of a slice from a DataFrame.\n",
      "Try using .loc[row_indexer,col_indexer] = value instead\n",
      "\n",
      "See the caveats in the documentation: https://pandas.pydata.org/pandas-docs/stable/user_guide/indexing.html#returning-a-view-versus-a-copy\n",
      "  df20[\"f1\"]=df20[\"f1\"].fillna(df20[\"f1\"].median())\n",
      "C:\\Users\\user\\AppData\\Local\\Temp/ipykernel_2124/2016375046.py:6: UserWarning: Boolean Series key will be reindexed to match DataFrame index.\n",
      "  means=df20[(df20[\"f4\"]==\"ISFJ\")&(df[\"f5\"]>=20)][\"f1\"].mean()\n"
     ]
    }
   ],
   "source": [
    "import pandas as pd\n",
    "df = pd.read_csv(\"./data/basic1.csv\")\n",
    "df.sort_values(by=\"age\", ascending=False, inplace=True)\n",
    "df20= df.head(20)\n",
    "df20[\"f1\"]=df20[\"f1\"].fillna(df20[\"f1\"].median())\n",
    "means=df20[(df20[\"f4\"]==\"ISFJ\")&(df[\"f5\"]>=20)][\"f1\"].mean()\n",
    "print(means)\n"
   ]
  },
  {
   "cell_type": "markdown",
   "metadata": {},
   "source": [
    "### T1-16 분산\n",
    " * 주어진 데이터 셋에서 f2가 0값인 데이터를 age를 기준으로 오름차순 정렬하고\n",
    " * 앞에서 부터 20개의 데이터를 추출한 후 \n",
    " * f1 결측치(최소값)를 채우기 전과 후의 분산 차이를 계산하시오 (소수점 둘째 자리까지)"
   ]
  },
  {
   "cell_type": "code",
   "execution_count": 38,
   "metadata": {},
   "outputs": [
    {
     "name": "stdout",
     "output_type": "stream",
     "text": [
      "38.44\n"
     ]
    },
    {
     "name": "stderr",
     "output_type": "stream",
     "text": [
      "C:\\Users\\user\\AppData\\Local\\Temp/ipykernel_2124/469334868.py:6: SettingWithCopyWarning: \n",
      "A value is trying to be set on a copy of a slice from a DataFrame.\n",
      "Try using .loc[row_indexer,col_indexer] = value instead\n",
      "\n",
      "See the caveats in the documentation: https://pandas.pydata.org/pandas-docs/stable/user_guide/indexing.html#returning-a-view-versus-a-copy\n",
      "  df20[\"f1\"]=df20[\"f1\"].fillna(df20[\"f1\"].min())\n"
     ]
    }
   ],
   "source": [
    "import pandas as pd\n",
    "df = pd.read_csv(\"./data/basic1.csv\")\n",
    "dff = df[df[\"f2\"]==0].sort_values(by=\"age\", ascending=True).reset_index(drop=True)\n",
    "df20=dff.head(20)\n",
    "var1=df20[\"f1\"].var()\n",
    "df20[\"f1\"]=df20[\"f1\"].fillna(df20[\"f1\"].min())\n",
    "var2=df20[\"f1\"].var()\n",
    "print(round((var1-var2),2))\n"
   ]
  },
  {
   "cell_type": "markdown",
   "metadata": {},
   "source": [
    "### T1-17 시계열 데이터\n",
    "* 2022년 5월 sales의 중앙값을 구하시오\n"
   ]
  },
  {
   "cell_type": "code",
   "execution_count": 5,
   "metadata": {},
   "outputs": [
    {
     "name": "stdout",
     "output_type": "stream",
     "text": [
      "1477685.0\n"
     ]
    }
   ],
   "source": [
    "import datetime as dt\n",
    "import pandas as pd\n",
    "df= pd.read_csv(\"./datasets/basic2.csv\")\n",
    "df[\"Date\"]=pd.to_datetime(df[\"Date\"])\n",
    "df[\"year\"] = df[\"Date\"].dt.year\n",
    "df[\"month\"]=df[\"Date\"].dt.month\n",
    "\n",
    "middle= df[(df[\"year\"]==2022)& (df[\"month\"]==5)][\"Sales\"].median()\n",
    "print(middle)\n",
    "\n"
   ]
  },
  {
   "cell_type": "markdown",
   "metadata": {},
   "source": [
    "### T1-18 시계열 데이터2\n",
    "* 주어진 데이터에서 2022년 5월 주말과 평일의 sales컬럼 평균값 차이를 구하시오 (소수점 둘째자리까지 출력, 반올림)\n",
    "\n",
    "* dt.datyofweek는 월화수목금토일을 1234567 숫자로 표시\n"
   ]
  },
  {
   "cell_type": "code",
   "execution_count": 10,
   "metadata": {},
   "outputs": [
    {
     "name": "stdout",
     "output_type": "stream",
     "text": [
      "3010339.1\n"
     ]
    }
   ],
   "source": [
    "import pandas as pd\n",
    "import datetime as dt\n",
    "df = pd.read_csv(\"./datasets/basic2.csv\")\n",
    "df[\"Date\"]=pd.to_datetime(df[\"Date\"])\n",
    "df[\"year\"]=df[\"Date\"].dt.year\n",
    "df[\"month\"]=df[\"Date\"].dt.month\n",
    "df[\"days\"]=df[\"Date\"].dt.dayofweek\n",
    "df[\"days\"]=df[\"days\"].apply(lambda x: x>=5,1,0)\n",
    "ms1 = df[(df[\"year\"]==2022)&(df[\"month\"]==5)&(df[\"days\"]==1)][\"Sales\"].mean()\n",
    "ms2 = df[(df[\"year\"]==2022)&(df[\"month\"]==5)&(df[\"days\"]==0)][\"Sales\"].mean()\n",
    "print(round((ms1-ms2),1))"
   ]
  },
  {
   "cell_type": "markdown",
   "metadata": {},
   "source": [
    "### T1-19 시계얼 데이터3\n",
    "* 주어진 데이터에서 2022년 월별 Sales 합계 중 가장 큰 금액과\n",
    "2023년 월별 Sales 합계 중 가장 큰 금액의 차이를 절대값으로 구하시오.\n",
    "\n",
    "* 단 Events컬럼이 '1'인경우 80%의 Salse값만 반영함\n",
    "(최종값은 소수점 반올림 후 정수 출력)\n"
   ]
  },
  {
   "cell_type": "code",
   "execution_count": 19,
   "metadata": {},
   "outputs": [
    {
     "name": "stdout",
     "output_type": "stream",
     "text": [
      "42473436.0\n"
     ]
    }
   ],
   "source": [
    "import pandas as pd\n",
    "import numpy as np\n",
    "import datetime as dt\n",
    "df = pd.read_csv(\"./datasets/basic2.csv\")\n",
    "def event_sales(x):\n",
    "    if x['Events'] == 1:\n",
    "        x['Sales2'] = x['Sales']*0.8\n",
    "    else:\n",
    "        x['Sales2'] = x['Sales']\n",
    "    return x\n",
    "df=df.apply(lambda x: event_sales(x), axis=1)\n",
    "df[\"Date\"]=pd.to_datetime(df[\"Date\"])\n",
    "df[\"year\"]=df[\"Date\"].dt.year\n",
    "df[\"month\"]=df[\"Date\"].dt.month\n",
    "df2022=df[df[\"year\"]==2022]\n",
    "df2023=df[df[\"year\"]==2023]\n",
    "a1= df2022.groupby([\"year\",\"month\"])[\"Sales2\"].sum().max()\n",
    "a2=df2023.groupby([\"year\",\"month\"])[\"Sales2\"].sum().max()\n",
    "print(round(np.abs(a1-a2),0))"
   ]
  },
  {
   "cell_type": "markdown",
   "metadata": {},
   "source": [
    "### T1-20 데이터 병합\n",
    "* basic1 데이터 중 'f4'를 기준으로 basic3 데이터 'f4'값을 기준으로 병합하고,¶\n",
    "병합한 데이터에서 r2결측치를 제거한다음,\n",
    " \n",
    "* 앞에서 부터 20개 데이터를 선택하고 'f2'컬럼 합을 구하시오\n",
    "\n",
    "* dropna(subset=[\"r2\"]) 특정 칼럼에 대해서만 dropna를 진행"
   ]
  },
  {
   "cell_type": "code",
   "execution_count": 26,
   "metadata": {},
   "outputs": [
    {
     "name": "stdout",
     "output_type": "stream",
     "text": [
      "15\n"
     ]
    }
   ],
   "source": [
    "import pandas as pd\n",
    "import numpy as np\n",
    "df1= pd.read_csv(\"./datasets/basic1.csv\")\n",
    "df2= pd.read_csv(\"./datasets/basic3.csv\")\n",
    "\n",
    "combine = pd.merge(left=df1, right=df2, how=\"left\",on=\"f4\")\n",
    "combine=combine.dropna(subset=[\"r2\"])\n",
    "sums = combine.iloc[:20][\"f2\"].sum()\n",
    "print(sums)\n"
   ]
  },
  {
   "cell_type": "markdown",
   "metadata": {},
   "source": [
    "### T1-21 구간 분할 \n",
    "* basic1 데이터 중 'age'컬럼 이상치를 제거하고, 동일한 개수로 나이 순으로 3그룹으로 나눈 뒤 각 그룹의 중앙값을 더하시오\n",
    "(이상치는 음수(0포함), 소수점 값)\n",
    "\n",
    "* ~는 뒤에 다음이 해당하지 않는 것을 뽑아낸다.\n",
    "* 구간 분할은 pd.qcut 사용 pd.qcut(df[\"age\"], q=3, labels=[\"group1\", \"group2\", \"group3\"])"
   ]
  },
  {
   "cell_type": "code",
   "execution_count": 32,
   "metadata": {},
   "outputs": [
    {
     "name": "stdout",
     "output_type": "stream",
     "text": [
      "165.0\n"
     ]
    }
   ],
   "source": [
    "df=pd.read_csv(\"./datasets/basic1.csv\")\n",
    "df=df[~(df[\"age\"]<=0)]\n",
    "df=df[df[\"age\"]==round(df[\"age\"],0)]\n",
    "df[\"range\"]=pd.qcut(df[\"age\"], q=3, labels=[\"group1\", \"group2\", \"group3\"])\n",
    "g1=df[df[\"range\"]==\"group1\"][\"age\"].median()\n",
    "g2=df[df[\"range\"]==\"group2\"][\"age\"].median()\n",
    "g3=df[df[\"range\"]==\"group3\"][\"age\"].median()\n",
    "\n",
    "print(g1+g2+g3)\n",
    "\n",
    "\n",
    "    "
   ]
  },
  {
   "cell_type": "markdown",
   "metadata": {},
   "source": [
    "### T1-22 Time - Series4\n",
    "* 주어진 데이터(basic2.csv)에서 주 단위 Sales의 합계를 구하고, 가장 큰 값을 가진 주와 작은 값을 가진 주의 차이를 구하시오(절대값)\n",
    "\n",
    "* 날짜 데이터를 datetime 으로 바꾸고 인덱스로 설정 하는 법: parse_dates=[\"Date\"], index_col=0\n",
    "\n",
    "* 주 단위로 나누는 법: df.resample(\"W\").sum() 2주 단위는 2W, 월 단위는 M\n"
   ]
  },
  {
   "cell_type": "code",
   "execution_count": 4,
   "metadata": {},
   "outputs": [
    {
     "name": "stdout",
     "output_type": "stream",
     "text": [
      "91639050\n"
     ]
    }
   ],
   "source": [
    "import pandas as pd\n",
    "import datetime as dt\n",
    "import numpy as np\n",
    "df = pd.read_csv(\"./datasets/basic2.csv\", parse_dates=[\"Date\"], index_col=0)\n",
    "df_w = df.resample(\"W\").sum()\n",
    "ma = df_w[\"Sales\"].max()\n",
    "mi = df_w[\"Sales\"].min()\n",
    "print(np.abs(ma-mi))\n"
   ]
  },
  {
   "cell_type": "markdown",
   "metadata": {},
   "source": [
    "### T1-23. 중복 데이터 제거 Drop Duplicates\n",
    "* f1의 결측치를 채운 후 age 컬럼의 중복 제거 전과 후의 'f1' 중앙값 차이를 구하시오\n",
    "- 결측치는 f1의 데이터 중 내림차순 정렬 후 10번째 값으로 채움\n",
    "- 중복 데이터 발생시 뒤에 나오는 데이터를 삭제함\n",
    "- 최종 결과값은 절대값으로 출력\n",
    "\n",
    "* subset=[\"age\"]"
   ]
  },
  {
   "cell_type": "code",
   "execution_count": 22,
   "metadata": {},
   "outputs": [
    {
     "name": "stdout",
     "output_type": "stream",
     "text": [
      "2.5\n"
     ]
    }
   ],
   "source": [
    "import pandas as pd \n",
    "import numpy as np\n",
    "import datetime as dt\n",
    "df = pd.read_csv(\"./datasets/basic1.csv\")\n",
    "df = df.sort_values(by=\"f1\", ascending=False)\n",
    "df.reset_index(drop=True,inplace=True)\n",
    "ten = df[\"f1\"].iloc[9]\n",
    "df[\"f1\"] = df[\"f1\"].fillna(ten)\n",
    "result1 = df[\"f1\"].median()\n",
    "df = df.drop_duplicates(subset=[\"age\"])\n",
    "result2 = df[\"f1\"].median()\n",
    "print(np.abs(result1-result2))\n",
    "\n"
   ]
  },
  {
   "cell_type": "markdown",
   "metadata": {},
   "source": [
    "### T1-24. Time-Series5 (Lagged Feature) 시차 데이터 생성\n",
    "* 주어진 데이터(basic2.csv)에서 새로운 컬럼(1일 이전 시차 컬럼)을 만들고, Events가 1이면서 Sales가 1000000이하인 조건에 맞는 새로운 컬럼 합을 구하시오\n",
    "\n",
    "* shift(1) 이전, shift(-1) 이후\n"
   ]
  },
  {
   "cell_type": "code",
   "execution_count": 25,
   "metadata": {},
   "outputs": [
    {
     "name": "stdout",
     "output_type": "stream",
     "text": [
      "1894876.0\n"
     ]
    }
   ],
   "source": [
    "import pandas as pd\n",
    "import numpy as np\n",
    "df = pd.read_csv(\"./datasets/basic2.csv\")\n",
    "df[\"pv_diff\"]=df[\"PV\"].shift(1)\n",
    "sums = df[(df[\"Events\"]==1) & (df[\"Sales\"]<=1000000)][\"pv_diff\"].sum()\n",
    "print(sums)"
   ]
  },
  {
   "cell_type": "markdown",
   "metadata": {},
   "source": [
    "### MOCK EXAM1 작업형 1 모의고사\n",
    "\n",
    "* 첫번째 데이터 부터 순서대로 50:50으로 데이터를 나누고, 앞에서 부터 50%의 데이터(이하, A그룹)는 'f1'컬럼을 A그룹의 중앙값으로 채우고, 뒤에서부터 50% 데이터(이하, B그룹)는 'f1'컬럼을 B그룹의 최대값으로 채운 후, A그룹과 B그룹의 표준편차 합을 구하시오\n",
    "\n",
    "\n",
    "* 'f4'컬럼을 기준 내림차순 정렬과 'f5'컬럼기준 오름차순 정렬을 순서대로 다중 조건 정렬하고나서 앞에서부터 10개의 데이터 중 'f5'컬럼의 최소값 찾고, 이 최소값으로 앞에서 부터 10개의 'f5'컬럼 데이터를 변경함. 그리고 'f5'컬럼의 평균값을 계산함\n",
    "\n",
    "* 'age' 컬럼의 IQR방식을 이용한 이상치 수와 표준편차*1.5방식을 이용한 이상치 수 합을 구하시오"
   ]
  },
  {
   "cell_type": "code",
   "execution_count": 5,
   "metadata": {},
   "outputs": [
    {
     "name": "stdout",
     "output_type": "stream",
     "text": [
      "42.0\n"
     ]
    }
   ],
   "source": [
    "# 1번문제\n",
    "import pandas as pd\n",
    "df=pd.read_csv(\"./data/basic1.csv\")\n",
    "a= df[:int(len(df)*0.5)]\n",
    "b=df[int(len(df)*0.5):]\n",
    "a=a[\"f1\"].fillna(a[\"f1\"].median())\n",
    "b=b[\"f1\"].fillna(b[\"f1\"].max())\n",
    "astd= a.std()\n",
    "bstd=b.std()\n",
    "print(round((astd+bstd),2))"
   ]
  },
  {
   "cell_type": "code",
   "execution_count": 20,
   "metadata": {},
   "outputs": [
    {
     "name": "stdout",
     "output_type": "stream",
     "text": [
      "53.66\n"
     ]
    }
   ],
   "source": [
    "# 2번문제\n",
    "dfs=df.sort_values(by=[\"f4\", \"f5\"], ascending=[False, True]).reset_index(drop=True)\n",
    "df10= dfs.head(10)\n",
    "mins= df10[\"f5\"].min()\n",
    "df.iloc[:10,7]=df10[\"f5\"].apply(lambda x: mins)\n",
    "means = df[\"f5\"].mean()\n",
    "print(round(means,2))\n"
   ]
  },
  {
   "cell_type": "code",
   "execution_count": 60,
   "metadata": {},
   "outputs": [
    {
     "name": "stdout",
     "output_type": "stream",
     "text": [
      "14\n"
     ]
    }
   ],
   "source": [
    "# 3번문제\n",
    "import pandas as pd\n",
    "df=pd.read_csv(\"./datasets/basic1.csv\")\n",
    "q1= df[\"age\"].quantile(0.25)\n",
    "q3=df[\"age\"].quantile(0.75)\n",
    "mean=df[\"age\"].mean()\n",
    "std = df[\"age\"].std()*1.5\n",
    "iqr= q3-q1\n",
    "out1=q1-1.5*iqr\n",
    "out2=q3+1.5*iqr\n",
    "min_out = mean - std\n",
    "max_out = mean + std\n",
    "out3=mean-std\n",
    "out4=mean+std\n",
    "outlier= sum((df[\"age\"]<out1) | (df[\"age\"]>out2))\n",
    "outlier2 =sum((df[\"age\"]<min_out) | (df[\"age\"]>max_out))\n",
    "print(outlier+outlier2)\n"
   ]
  },
  {
   "cell_type": "markdown",
   "metadata": {},
   "source": [
    "### 마케팅 응답 고객들의 나이를 10살 단위로 변환 했을 때, 가장 많은 인원을 가진 나이대는? (0~9 : 0 , 10~19 : 10)"
   ]
  },
  {
   "cell_type": "code",
   "execution_count": 8,
   "metadata": {},
   "outputs": [
    {
     "name": "stdout",
     "output_type": "stream",
     "text": [
      "30\n"
     ]
    }
   ],
   "source": [
    "import pandas as pd\n",
    "df = pd.read_csv('https://raw.githubusercontent.com/Datamanim/datarepo/main/bank/train.csv')\n",
    "result = (df[\"age\"]//10*10).value_counts().index[0]\n",
    "print(result)"
   ]
  },
  {
   "cell_type": "code",
   "execution_count": 12,
   "metadata": {},
   "outputs": [
    {
     "name": "stdout",
     "output_type": "stream",
     "text": [
      "504\n"
     ]
    }
   ],
   "source": [
    "results = df[(df[\"age\"]>=25) & (df[\"age\"]<29)&(df[\"housing\"]==\"yes\")].shape[0]\n",
    "print(results)"
   ]
  },
  {
   "cell_type": "code",
   "execution_count": null,
   "metadata": {},
   "outputs": [],
   "source": []
  },
  {
   "cell_type": "code",
   "execution_count": 43,
   "metadata": {},
   "outputs": [
    {
     "data": {
      "text/html": [
       "<div>\n",
       "<style scoped>\n",
       "    .dataframe tbody tr th:only-of-type {\n",
       "        vertical-align: middle;\n",
       "    }\n",
       "\n",
       "    .dataframe tbody tr th {\n",
       "        vertical-align: top;\n",
       "    }\n",
       "\n",
       "    .dataframe thead th {\n",
       "        text-align: right;\n",
       "    }\n",
       "</style>\n",
       "<table border=\"1\" class=\"dataframe\">\n",
       "  <thead>\n",
       "    <tr style=\"text-align: right;\">\n",
       "      <th></th>\n",
       "      <th>id</th>\n",
       "      <th>age</th>\n",
       "      <th>city</th>\n",
       "      <th>f1</th>\n",
       "      <th>f2</th>\n",
       "      <th>f3</th>\n",
       "      <th>f4</th>\n",
       "      <th>f5</th>\n",
       "    </tr>\n",
       "  </thead>\n",
       "  <tbody>\n",
       "    <tr>\n",
       "      <th>0</th>\n",
       "      <td>id01</td>\n",
       "      <td>10.0</td>\n",
       "      <td>seoul</td>\n",
       "      <td>NaN</td>\n",
       "      <td>0</td>\n",
       "      <td>NaN</td>\n",
       "      <td>ENFJ</td>\n",
       "      <td>91.297791</td>\n",
       "    </tr>\n",
       "    <tr>\n",
       "      <th>1</th>\n",
       "      <td>id02</td>\n",
       "      <td>9.0</td>\n",
       "      <td>seoul</td>\n",
       "      <td>70.0</td>\n",
       "      <td>1</td>\n",
       "      <td>NaN</td>\n",
       "      <td>ENFJ</td>\n",
       "      <td>60.339826</td>\n",
       "    </tr>\n",
       "    <tr>\n",
       "      <th>2</th>\n",
       "      <td>id03</td>\n",
       "      <td>27.0</td>\n",
       "      <td>seoul</td>\n",
       "      <td>61.0</td>\n",
       "      <td>1</td>\n",
       "      <td>NaN</td>\n",
       "      <td>ISTJ</td>\n",
       "      <td>17.252986</td>\n",
       "    </tr>\n",
       "    <tr>\n",
       "      <th>3</th>\n",
       "      <td>id04</td>\n",
       "      <td>75.0</td>\n",
       "      <td>seoul</td>\n",
       "      <td>NaN</td>\n",
       "      <td>2</td>\n",
       "      <td>NaN</td>\n",
       "      <td>INFP</td>\n",
       "      <td>52.667078</td>\n",
       "    </tr>\n",
       "    <tr>\n",
       "      <th>4</th>\n",
       "      <td>id05</td>\n",
       "      <td>24.0</td>\n",
       "      <td>seoul</td>\n",
       "      <td>85.0</td>\n",
       "      <td>2</td>\n",
       "      <td>NaN</td>\n",
       "      <td>ISFJ</td>\n",
       "      <td>29.269869</td>\n",
       "    </tr>\n",
       "    <tr>\n",
       "      <th>...</th>\n",
       "      <td>...</td>\n",
       "      <td>...</td>\n",
       "      <td>...</td>\n",
       "      <td>...</td>\n",
       "      <td>...</td>\n",
       "      <td>...</td>\n",
       "      <td>...</td>\n",
       "      <td>...</td>\n",
       "    </tr>\n",
       "    <tr>\n",
       "      <th>95</th>\n",
       "      <td>id96</td>\n",
       "      <td>92.0</td>\n",
       "      <td>경기</td>\n",
       "      <td>53.0</td>\n",
       "      <td>1</td>\n",
       "      <td>NaN</td>\n",
       "      <td>ENTJ</td>\n",
       "      <td>52.667078</td>\n",
       "    </tr>\n",
       "    <tr>\n",
       "      <th>96</th>\n",
       "      <td>id97</td>\n",
       "      <td>100.0</td>\n",
       "      <td>경기</td>\n",
       "      <td>NaN</td>\n",
       "      <td>0</td>\n",
       "      <td>NaN</td>\n",
       "      <td>INFP</td>\n",
       "      <td>67.886373</td>\n",
       "    </tr>\n",
       "    <tr>\n",
       "      <th>97</th>\n",
       "      <td>id98</td>\n",
       "      <td>39.0</td>\n",
       "      <td>경기</td>\n",
       "      <td>58.0</td>\n",
       "      <td>2</td>\n",
       "      <td>NaN</td>\n",
       "      <td>INFP</td>\n",
       "      <td>98.429899</td>\n",
       "    </tr>\n",
       "    <tr>\n",
       "      <th>98</th>\n",
       "      <td>id99</td>\n",
       "      <td>1.0</td>\n",
       "      <td>경기</td>\n",
       "      <td>47.0</td>\n",
       "      <td>0</td>\n",
       "      <td>NaN</td>\n",
       "      <td>ESFJ</td>\n",
       "      <td>97.381034</td>\n",
       "    </tr>\n",
       "    <tr>\n",
       "      <th>99</th>\n",
       "      <td>id100</td>\n",
       "      <td>47.0</td>\n",
       "      <td>경기</td>\n",
       "      <td>53.0</td>\n",
       "      <td>0</td>\n",
       "      <td>vip</td>\n",
       "      <td>ESFP</td>\n",
       "      <td>33.308999</td>\n",
       "    </tr>\n",
       "  </tbody>\n",
       "</table>\n",
       "<p>100 rows × 8 columns</p>\n",
       "</div>"
      ],
      "text/plain": [
       "       id    age   city    f1  f2   f3    f4         f5\n",
       "0    id01   10.0  seoul   NaN   0  NaN  ENFJ  91.297791\n",
       "1    id02    9.0  seoul  70.0   1  NaN  ENFJ  60.339826\n",
       "2    id03   27.0  seoul  61.0   1  NaN  ISTJ  17.252986\n",
       "3    id04   75.0  seoul   NaN   2  NaN  INFP  52.667078\n",
       "4    id05   24.0  seoul  85.0   2  NaN  ISFJ  29.269869\n",
       "..    ...    ...    ...   ...  ..  ...   ...        ...\n",
       "95   id96   92.0     경기  53.0   1  NaN  ENTJ  52.667078\n",
       "96   id97  100.0     경기   NaN   0  NaN  INFP  67.886373\n",
       "97   id98   39.0     경기  58.0   2  NaN  INFP  98.429899\n",
       "98   id99    1.0     경기  47.0   0  NaN  ESFJ  97.381034\n",
       "99  id100   47.0     경기  53.0   0  vip  ESFP  33.308999\n",
       "\n",
       "[100 rows x 8 columns]"
      ]
     },
     "execution_count": 43,
     "metadata": {},
     "output_type": "execute_result"
    }
   ],
   "source": [
    "df[\"age\"].replace(2,10,inplace=True)\n",
    "df"
   ]
  },
  {
   "cell_type": "markdown",
   "metadata": {},
   "source": [
    "### 3회 기출유형 작업형"
   ]
  },
  {
   "cell_type": "code",
   "execution_count": 14,
   "metadata": {},
   "outputs": [
    {
     "name": "stdout",
     "output_type": "stream",
     "text": [
      "50\n"
     ]
    }
   ],
   "source": [
    "# 1번\n",
    "df= pd.read_csv(\"./data/t1-data2.csv\", index_col='year')\n",
    "dff=df.loc[\"2022년\"].median()\n",
    "dffs=sum(df.loc[\"2022년\",:]>dff)\n",
    "print(dffs)"
   ]
  },
  {
   "cell_type": "code",
   "execution_count": 19,
   "metadata": {},
   "outputs": [
    {
     "name": "stdout",
     "output_type": "stream",
     "text": [
      "77.25\n"
     ]
    }
   ],
   "source": [
    "df= pd.read_csv(\"./data/t1-data1.csv\")\n",
    "df=df.dropna(subset=[\"f1\"])\n",
    "df60=df[:int(len(df)*0.6)]\n",
    "df75=df60[\"f1\"].quantile(0.75)\n",
    "print(df75)"
   ]
  },
  {
   "cell_type": "code",
   "execution_count": 22,
   "metadata": {},
   "outputs": [
    {
     "name": "stdout",
     "output_type": "stream",
     "text": [
      "f1\n"
     ]
    }
   ],
   "source": [
    "df= pd.read_csv(\"./data/t1-data1.csv\")\n",
    "dff=pd.DataFrame(df.isnull().sum(), columns=[\"cnt_null\"])\n",
    "dff.sort_values(\"cnt_null\", ascending=False,inplace=True)\n",
    "print(dff.index[0])"
   ]
  },
  {
   "cell_type": "code",
   "execution_count": null,
   "metadata": {},
   "outputs": [],
   "source": []
  }
 ],
 "metadata": {
  "interpreter": {
   "hash": "ad2bdc8ecc057115af97d19610ffacc2b4e99fae6737bb82f5d7fb13d2f2c186"
  },
  "kernelspec": {
   "display_name": "Python 3.9.7 ('base')",
   "language": "python",
   "name": "python3"
  },
  "language_info": {
   "codemirror_mode": {
    "name": "ipython",
    "version": 3
   },
   "file_extension": ".py",
   "mimetype": "text/x-python",
   "name": "python",
   "nbconvert_exporter": "python",
   "pygments_lexer": "ipython3",
   "version": "3.9.7"
  },
  "orig_nbformat": 4
 },
 "nbformat": 4,
 "nbformat_minor": 2
}
